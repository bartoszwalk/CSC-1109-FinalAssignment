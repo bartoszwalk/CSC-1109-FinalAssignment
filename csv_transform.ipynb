{
 "cells": [
  {
   "cell_type": "code",
   "execution_count": 10,
   "metadata": {},
   "outputs": [
    {
     "name": "stdout",
     "output_type": "stream",
     "text": [
      "Created yearly_counts_analysis.csv\n",
      "Created severity_patterns_states_analysis.csv\n"
     ]
    }
   ],
   "source": [
    "import pandas as pd\n",
    "import os\n",
    "\n",
    "# Define column names for each analysis\n",
    "yearly_counts_columns = [\n",
    "    'year', 'state', 'accident_count'\n",
    "]\n",
    "\n",
    "# weather_time_columns = [\n",
    "#     'time_of_day', 'weather_category', 'accident_count', \n",
    "#     'avg_severity', 'avg_temp', 'avg_visibility', \n",
    "#     'avg_wind_speed', 'avg_precipitation', 'percentage_of_total'\n",
    "# ]\n",
    "\n",
    "# accident_trends_columns = [\n",
    "#     'state', 'city', 'starting_accidents', 'ending_accidents',\n",
    "#     'avg_yearly_accidents', 'percent_change', 'improvement_category'\n",
    "# ]\n",
    "\n",
    "severity_patterns_states_columns = [\n",
    "    'state', 'total_accidents', 'severe_accidents',\n",
    "    'avg_severity_score', 'severe_accident_percentage'\n",
    "]\n",
    "\n",
    "# Process Yearly Counts Analysis\n",
    "yearly_counts_files = [f for f in os.listdir('results/yearly_counts') if not f.startswith('.')]\n",
    "if yearly_counts_files:\n",
    "    input_file = os.path.join('results/yearly_counts', yearly_counts_files[0])\n",
    "    df_yearly_counts = pd.read_csv(input_file, header=None, names=yearly_counts_columns)\n",
    "    df_yearly_counts.to_csv('results/yearly_counts/yearly_counts_analysis.csv', index=False)\n",
    "    print(\"Created yearly_counts_analysis.csv\")\n",
    "\n",
    "# Process Weather Time Analysis\n",
    "# weather_files = [f for f in os.listdir('weather_time_analysis') if not f.startswith('.')]\n",
    "# if weather_files:\n",
    "#     input_file = os.path.join('weather_time_analysis', weather_files[0])\n",
    "#     df_weather = pd.read_csv(input_file, header=None, names=weather_time_columns)\n",
    "#     df_weather.to_csv('weather_time_analysis/weather_time_analysis.csv', index=False)\n",
    "#     print(\"Created weather_time_analysis.csv\")\n",
    "\n",
    "# # Process Accident Trends Analysis\n",
    "# trends_files = [f for f in os.listdir('accident_trends') if not f.startswith('.')]\n",
    "# if trends_files:\n",
    "#     input_file = os.path.join('accident_trends', trends_files[0])\n",
    "#     df_trends = pd.read_csv(input_file, header=None, names=accident_trends_columns)\n",
    "#     df_trends.to_csv('accident_trends/accident_trends_analysis.csv', index=False)\n",
    "#     print(\"Created accident_trends_analysis.csv\")\n",
    "\n",
    "# Process Severity Patterns Analysis\n",
    "severity_states_files = [f for f in os.listdir('results/severity_patterns_states') if not f.startswith('.')]\n",
    "if severity_states_files:\n",
    "    input_file = os.path.join('results/severity_patterns_states', severity_states_files[0])\n",
    "    df_severity = pd.read_csv(input_file, header=None, names=severity_patterns_states_columns)\n",
    "    df_severity.to_csv('results/severity_patterns_states/severity_patterns_states_analysis.csv', index=False)\n",
    "    print(\"Created severity_patterns_states_analysis.csv\")"
   ]
  },
  {
   "cell_type": "code",
   "execution_count": null,
   "metadata": {},
   "outputs": [],
   "source": []
  }
 ],
 "metadata": {
  "kernelspec": {
   "display_name": "Python 3 (ipykernel)",
   "language": "python",
   "name": "python3"
  },
  "language_info": {
   "codemirror_mode": {
    "name": "ipython",
    "version": 3
   },
   "file_extension": ".py",
   "mimetype": "text/x-python",
   "name": "python",
   "nbconvert_exporter": "python",
   "pygments_lexer": "ipython3",
   "version": "3.10.12"
  }
 },
 "nbformat": 4,
 "nbformat_minor": 4
}
